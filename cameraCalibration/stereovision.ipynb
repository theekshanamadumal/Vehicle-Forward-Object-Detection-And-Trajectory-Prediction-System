{
 "cells": [
  {
   "cell_type": "code",
   "execution_count": 28,
   "id": "69e6fd44",
   "metadata": {},
   "outputs": [],
   "source": [
    "import numpy as np\n",
    "import cv2"
   ]
  },
  {
   "cell_type": "code",
   "execution_count": 29,
   "id": "4c1d64e3",
   "metadata": {},
   "outputs": [
    {
     "name": "stdout",
     "output_type": "stream",
     "text": [
      "(1280, 960)\n"
     ]
    }
   ],
   "source": [
    "# Camera parameters to undistort and rectify images\n",
    "cv_file = cv2.FileStorage()\n",
    "cv_file.open('stereoMap.xml', cv2.FileStorage_READ)\n",
    "\n",
    "stereoMapL_x = cv_file.getNode('stereoMapL_x').mat()\n",
    "stereoMapL_y = cv_file.getNode('stereoMapL_y').mat()\n",
    "stereoMapR_x = cv_file.getNode('stereoMapR_x').mat()\n",
    "stereoMapR_y = cv_file.getNode('stereoMapR_y').mat()\n",
    "\n",
    "\n",
    "# Open both cameras\n",
    "cap = cv2.VideoCapture(2)                    \n",
    "# cap_left =  cv2.VideoCapture(0, cv2.CAP_DSHOW)\n",
    "\n",
    "\n",
    "while(cap.isOpened()):\n",
    "\n",
    "    succes, frame = cap.read()\n",
    "    \n",
    "    h, w, channels = frame.shape # (240, 640, 3)\n",
    "    half = w//2\n",
    "    \n",
    "    scale_percent = 400 # percent of original size\n",
    "    width = int(half * scale_percent / 100)\n",
    "    height = int(h * scale_percent / 100)\n",
    "    dim = (width, height)\n",
    "    \n",
    "    frame_left = frame[:, :half]\n",
    "    frame_right = frame[:, half:]    \n",
    "    \n",
    "    # resize image\n",
    "    r_frame_left = cv2.resize(frame_left, dim, interpolation = cv2.INTER_AREA)\n",
    "    r_frame_right = cv2.resize(frame_right, dim, interpolation = cv2.INTER_AREA)\n",
    "    \n",
    "    \n",
    "\n",
    "    # Undistort and rectify images\n",
    "    frame_right = cv2.remap(r_frame_right, stereoMapR_x, stereoMapR_y, cv2.INTER_LANCZOS4, cv2.BORDER_CONSTANT, 0)\n",
    "    frame_left = cv2.remap(r_frame_left, stereoMapL_x, stereoMapL_y, cv2.INTER_LANCZOS4, cv2.BORDER_CONSTANT, 0)\n",
    "                     \n",
    "    # Show the frames\n",
    "    cv2.imshow(\"frame right\", frame_right) \n",
    "    cv2.imshow(\"frame left\", frame_left)\n",
    "\n",
    "\n",
    "    # Hit \"q\" to close the window\n",
    "    if cv2.waitKey(1) & 0xFF == ord('q'):\n",
    "        print(dim)\n",
    "        break\n"
   ]
  },
  {
   "cell_type": "code",
   "execution_count": 30,
   "id": "675318d1",
   "metadata": {},
   "outputs": [],
   "source": [
    "# Release and destroy all windows before termination\n",
    "cap.release()\n",
    "\n",
    "\n",
    "cv2.destroyAllWindows()"
   ]
  },
  {
   "cell_type": "code",
   "execution_count": null,
   "id": "30bf7ace",
   "metadata": {},
   "outputs": [],
   "source": []
  }
 ],
 "metadata": {
  "kernelspec": {
   "display_name": "Python 3",
   "language": "python",
   "name": "python3"
  },
  "language_info": {
   "codemirror_mode": {
    "name": "ipython",
    "version": 3
   },
   "file_extension": ".py",
   "mimetype": "text/x-python",
   "name": "python",
   "nbconvert_exporter": "python",
   "pygments_lexer": "ipython3",
   "version": "3.7.6"
  }
 },
 "nbformat": 4,
 "nbformat_minor": 5
}
