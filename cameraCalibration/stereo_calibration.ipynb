{
 "cells": [
  {
   "cell_type": "code",
   "execution_count": 14,
   "id": "786ad026",
   "metadata": {},
   "outputs": [],
   "source": [
    "import numpy as np\n",
    "import cv2 as cv\n",
    "import glob"
   ]
  },
  {
   "cell_type": "markdown",
   "id": "bf9ad279",
   "metadata": {},
   "source": [
    "#### FIND CHESSBOARD CORNERS - OBJECT POINTS"
   ]
  },
  {
   "cell_type": "code",
   "execution_count": 15,
   "id": "f167fca6",
   "metadata": {},
   "outputs": [
    {
     "name": "stdout",
     "output_type": "stream",
     "text": [
      "['images/stereoLeft/imageL0.png', 'images/stereoLeft/imageL1.png', 'images/stereoLeft/imageL2.png', 'images/stereoLeft/imageL3.png', 'images/stereoLeft/imageL4.png', 'images/stereoLeft/imageL5.png', 'images/stereoLeft/imageL6.png']\n"
     ]
    }
   ],
   "source": [
    "chessboardSize = (9,6)\n",
    "frameSize = (320,240)\n",
    "\n",
    "# termination criteria\n",
    "criteria = (cv.TERM_CRITERIA_EPS + cv.TERM_CRITERIA_MAX_ITER, 30, 0.001)\n",
    "\n",
    "\n",
    "# prepare object points, like (0,0,0), (1,0,0), (2,0,0) ....,(6,5,0)\n",
    "objp = np.zeros((chessboardSize[0] * chessboardSize[1], 3), np.float32)\n",
    "objp[:,:2] = np.mgrid[0:chessboardSize[0],0:chessboardSize[1]].T.reshape(-1,2)\n",
    "\n",
    "size_of_chessboard_squares_mm = 20\n",
    "objp = objp * size_of_chessboard_squares_mm\n",
    "\n",
    "# Arrays to store object points and image points from all the images.\n",
    "objpoints = [] # 3d point in real world space\n",
    "imgpointsL = [] # 2d points in image plane.\n",
    "imgpointsR = [] # 2d points in image plane.\n",
    "\n",
    "\n",
    "imagesLeft = sorted(glob.glob('images/stereoLeft/*.png'))\n",
    "imagesRight = sorted(glob.glob('images/stereoRight/*.png'))\n",
    "print(imagesLeft)"
   ]
  },
  {
   "cell_type": "code",
   "execution_count": 16,
   "id": "7d4ad4a8",
   "metadata": {},
   "outputs": [
    {
     "name": "stdout",
     "output_type": "stream",
     "text": [
      "True\n",
      "True\n",
      "True\n",
      "False\n",
      "True\n",
      "True\n",
      "True\n"
     ]
    }
   ],
   "source": [
    "for imgLeft, imgRight in zip(imagesLeft, imagesRight):\n",
    "\n",
    "    imgL = cv.imread(imgLeft)\n",
    "    imgR = cv.imread(imgRight)\n",
    "    grayL = cv.cvtColor(imgL, cv.COLOR_BGR2GRAY)\n",
    "    grayR = cv.cvtColor(imgR, cv.COLOR_BGR2GRAY)\n",
    "\n",
    "    # Find the chess board corners\n",
    "    retL, cornersL = cv.findChessboardCorners(grayL, chessboardSize, None)\n",
    "    retR, cornersR = cv.findChessboardCorners(grayR, chessboardSize, None)\n",
    "    print(retL)\n",
    "\n",
    "    # If found, add object points, image points (after refining them)\n",
    "    if retL and retR == True:\n",
    "\n",
    "        objpoints.append(objp)\n",
    "\n",
    "        cornersL = cv.cornerSubPix(grayL, cornersL, (11,11), (-1,-1), criteria)\n",
    "        imgpointsL.append(cornersL)\n",
    "\n",
    "        cornersR = cv.cornerSubPix(grayR, cornersR, (11,11), (-1,-1), criteria)\n",
    "        imgpointsR.append(cornersR)\n",
    "\n",
    "        # Draw and display the corners\n",
    "        cv.drawChessboardCorners(imgL, chessboardSize, cornersL, retL)\n",
    "        cv.imshow('img left', imgL)\n",
    "        cv.drawChessboardCorners(imgR, chessboardSize, cornersR, retR)\n",
    "        cv.imshow('img right', imgR)\n",
    "        cv.waitKey(1000)"
   ]
  },
  {
   "cell_type": "code",
   "execution_count": 17,
   "id": "bc2167db",
   "metadata": {},
   "outputs": [],
   "source": [
    "cv.destroyAllWindows()"
   ]
  },
  {
   "cell_type": "markdown",
   "id": "b0b1bf3c",
   "metadata": {},
   "source": [
    "#### CALIBRATION"
   ]
  },
  {
   "cell_type": "code",
   "execution_count": 18,
   "id": "0b2e4f74",
   "metadata": {},
   "outputs": [],
   "source": [
    "retL, cameraMatrixL, distL, rvecsL, tvecsL = cv.calibrateCamera(objpoints, imgpointsL, frameSize, None, None)\n",
    "heightL, widthL, channelsL = imgL.shape\n",
    "newCameraMatrixL, roi_L = cv.getOptimalNewCameraMatrix(cameraMatrixL, distL, (widthL, heightL), 1, (widthL, heightL))\n",
    "\n",
    "retR, cameraMatrixR, distR, rvecsR, tvecsR = cv.calibrateCamera(objpoints, imgpointsR, frameSize, None, None)\n",
    "heightR, widthR, channelsR = imgR.shape\n",
    "newCameraMatrixR, roi_R = cv.getOptimalNewCameraMatrix(cameraMatrixR, distR, (widthR, heightR), 1, (widthR, heightR))\n"
   ]
  },
  {
   "cell_type": "markdown",
   "id": "d0da9a3f",
   "metadata": {},
   "source": [
    "#### STEREO VISION CALIBRATION"
   ]
  },
  {
   "cell_type": "code",
   "execution_count": 20,
   "id": "a39f9b10",
   "metadata": {},
   "outputs": [],
   "source": [
    "flags = 0\n",
    "flags |= cv.CALIB_FIX_INTRINSIC\n",
    "# Here we fix the intrinsic camara matrixes so that only Rot, Trns, Emat and Fmat are calculated.\n",
    "# Hence intrinsic parameters are the same \n",
    "\n",
    "criteria_stereo= (cv.TERM_CRITERIA_EPS + cv.TERM_CRITERIA_MAX_ITER, 30, 0.001)\n",
    "\n",
    "# This step is performed to transformation between the two cameras and calculate Essential and Fundamenatl matrix\n",
    "retStereo, newCameraMatrixL, distL, newCameraMatrixR, distR, rot, trans, essentialMatrix, fundamentalMatrix = cv.stereoCalibrate(objpoints, imgpointsL, imgpointsR, newCameraMatrixL, distL, newCameraMatrixR, distR, grayL.shape[::-1], criteria_stereo, flags)\n",
    "\n",
    "# Stereo Rectification\n",
    "rectifyScale= 1\n",
    "rectL, rectR, projMatrixL, projMatrixR, Q, roi_L, roi_R= cv.stereoRectify(newCameraMatrixL, distL, newCameraMatrixR, distR, grayL.shape[::-1], rot, trans, rectifyScale,(0,0))"
   ]
  },
  {
   "cell_type": "code",
   "execution_count": 21,
   "id": "3313798f",
   "metadata": {},
   "outputs": [
    {
     "name": "stdout",
     "output_type": "stream",
     "text": [
      "[[284.94020081   0.         177.79736519   0.        ]\n",
      " [  0.         284.94020081 134.46225834   0.        ]\n",
      " [  0.           0.           1.           0.        ]]\n"
     ]
    }
   ],
   "source": [
    "print(projMatrixL)"
   ]
  },
  {
   "cell_type": "code",
   "execution_count": 22,
   "id": "7b29a0a2",
   "metadata": {},
   "outputs": [
    {
     "name": "stdout",
     "output_type": "stream",
     "text": [
      "[[ 2.84940201e+02  0.00000000e+00  1.77797365e+02 -1.47113186e+04]\n",
      " [ 0.00000000e+00  2.84940201e+02  1.34462258e+02  0.00000000e+00]\n",
      " [ 0.00000000e+00  0.00000000e+00  1.00000000e+00  0.00000000e+00]]\n"
     ]
    }
   ],
   "source": [
    "print(projMatrixR)"
   ]
  },
  {
   "cell_type": "code",
   "execution_count": null,
   "id": "3332a15d",
   "metadata": {},
   "outputs": [],
   "source": []
  }
 ],
 "metadata": {
  "kernelspec": {
   "display_name": "Python 3",
   "language": "python",
   "name": "python3"
  },
  "language_info": {
   "codemirror_mode": {
    "name": "ipython",
    "version": 3
   },
   "file_extension": ".py",
   "mimetype": "text/x-python",
   "name": "python",
   "nbconvert_exporter": "python",
   "pygments_lexer": "ipython3",
   "version": "3.7.6"
  }
 },
 "nbformat": 4,
 "nbformat_minor": 5
}
