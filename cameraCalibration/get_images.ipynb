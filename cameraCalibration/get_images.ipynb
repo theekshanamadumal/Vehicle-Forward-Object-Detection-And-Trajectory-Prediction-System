{
 "cells": [
  {
   "cell_type": "code",
   "execution_count": 17,
   "id": "3974f496",
   "metadata": {},
   "outputs": [],
   "source": [
    "import cv2\n",
    "import numpy as np"
   ]
  },
  {
   "cell_type": "code",
   "execution_count": 18,
   "id": "dca1da5b",
   "metadata": {},
   "outputs": [],
   "source": [
    "cap = cv2.VideoCapture(2)\n",
    "num = 0"
   ]
  },
  {
   "cell_type": "code",
   "execution_count": 19,
   "id": "b382ca25",
   "metadata": {},
   "outputs": [],
   "source": [
    "ret, frame = cap.read()\n",
    "h, w, channels = frame.shape # (240, 640, 3)\n",
    "\n",
    "half = w//2\n",
    "\n",
    "scale_percent = 400 # percent of original size\n",
    "width = int(half * scale_percent / 100)\n",
    "height = int(h * scale_percent / 100)\n",
    "dim = (width, height)"
   ]
  },
  {
   "cell_type": "code",
   "execution_count": 20,
   "id": "27291644",
   "metadata": {},
   "outputs": [
    {
     "name": "stdout",
     "output_type": "stream",
     "text": [
      "image saved!\n",
      "image saved!\n",
      "image saved!\n",
      "image saved!\n",
      "image saved!\n",
      "image saved!\n",
      "image saved!\n"
     ]
    }
   ],
   "source": [
    "while cap.isOpened():    \n",
    "    succes, img = cap.read()\n",
    "    frame_left = img[:, :half]\n",
    "    frame_right = img[:, half:]\n",
    "    \n",
    "#     # resize image\n",
    "#     r_frame_left = cv2.resize(frame_left, dim, interpolation = cv2.INTER_AREA)\n",
    "#     r_frame_right = cv2.resize(frame_right, dim, interpolation = cv2.INTER_AREA)\n",
    "    \n",
    "    k = cv2.waitKey(5)\n",
    "    if k == 27:\n",
    "        break\n",
    "    elif k == ord('s'): # wait for 's' key to save and exit\n",
    "                \n",
    "        cv2.imwrite('images/stereoLeft/imageL' + str(num) + '.png', frame_left)\n",
    "        cv2.imwrite('images/stereoRight/imageR' + str(num) + '.png', frame_right)\n",
    "        \n",
    "        print(\"image saved!\")\n",
    "        \n",
    "        num += 1\n",
    "\n",
    "    cv2.imshow('ImgL',frame_left)\n",
    "    cv2.imshow('ImgR',frame_right)\n",
    "    "
   ]
  },
  {
   "cell_type": "code",
   "execution_count": 21,
   "id": "b32bcd36",
   "metadata": {},
   "outputs": [],
   "source": [
    "# Release and destroy all windows before termination\n",
    "cap.release()\n",
    "\n",
    "cv2.destroyAllWindows()"
   ]
  },
  {
   "cell_type": "code",
   "execution_count": null,
   "id": "03f094d8",
   "metadata": {},
   "outputs": [],
   "source": []
  }
 ],
 "metadata": {
  "kernelspec": {
   "display_name": "Python 3",
   "language": "python",
   "name": "python3"
  },
  "language_info": {
   "codemirror_mode": {
    "name": "ipython",
    "version": 3
   },
   "file_extension": ".py",
   "mimetype": "text/x-python",
   "name": "python",
   "nbconvert_exporter": "python",
   "pygments_lexer": "ipython3",
   "version": "3.7.6"
  }
 },
 "nbformat": 4,
 "nbformat_minor": 5
}
