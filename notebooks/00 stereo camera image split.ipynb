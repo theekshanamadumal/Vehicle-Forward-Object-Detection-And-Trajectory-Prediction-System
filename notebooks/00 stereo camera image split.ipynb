{
 "cells": [
  {
   "cell_type": "code",
   "execution_count": 13,
   "id": "7e6cdaf6",
   "metadata": {},
   "outputs": [
    {
     "data": {
      "text/plain": [
       "'C:\\\\Users\\\\theekshana\\\\Videos\\\\Captures'"
      ]
     },
     "execution_count": 13,
     "metadata": {},
     "output_type": "execute_result"
    }
   ],
   "source": [
    "pwd"
   ]
  },
  {
   "cell_type": "code",
   "execution_count": 9,
   "id": "d1a4e045",
   "metadata": {},
   "outputs": [],
   "source": [
    "import numpy as np\n",
    "import cv2 as cv"
   ]
  },
  {
   "cell_type": "code",
   "execution_count": 39,
   "id": "62869d9d",
   "metadata": {},
   "outputs": [
    {
     "name": "stdout",
     "output_type": "stream",
     "text": [
      "Can't receive frame (stream end?). Exiting ...\n"
     ]
    }
   ],
   "source": [
    "video='test01.mp4'\n",
    "cap = cv.VideoCapture(video)\n",
    "if not cap.isOpened():\n",
    "    print(\"Cannot open camera\")\n",
    "    exit()\n",
    "\n",
    "\n",
    "ret, frame = cap.read()\n",
    "h, w, channels = frame.shape #2560 - 1280 , 960\n",
    " \n",
    "half = w//2\n",
    "count=0\n",
    "skip_rate=3\n",
    "frame_no=0\n",
    "\n",
    "while True:\n",
    "    \n",
    "    # Capture frame-by-frame\n",
    "    ret = cap.grab()\n",
    "    frame_no=frame_no+1\n",
    "    \n",
    "    # if frame is read correctly ret is True\n",
    "    if not ret:\n",
    "        print(\"Can't receive frame (stream end?). Exiting ...\")\n",
    "        break\n",
    "    # Our operations on the frame come here\n",
    "#     gray = cv.cvtColor(frame, cv.COLOR_BGR2GRAY)\n",
    "    # Display the resulting frame\n",
    "  \n",
    "    if (frame_no % skip_rate == 0):  # Processing frame\n",
    "        status, frame = cap.retrieve()  # Decode processing frame\n",
    " \n",
    "        leftframe = frame[:, :half]\n",
    "        rightframe = frame[:, half:] \n",
    "\n",
    "        cv.namedWindow(\"frame\", cv.WINDOW_NORMAL)\n",
    "        cv.resizeWindow(\"frame\", 700, 200)\n",
    "        cv.namedWindow(\"left\", cv.WINDOW_NORMAL)\n",
    "        cv.resizeWindow(\"left\", 360, 200)\n",
    "        cv.namedWindow(\"right\", cv.WINDOW_NORMAL)\n",
    "        cv.resizeWindow(\"right\", 360, 200)\n",
    "\n",
    "        cv.imshow('frame', frame)\n",
    "        cv.imshow('left', leftframe)\n",
    "        cv.imshow('right', rightframe)\n",
    "    \n",
    "        cv.imwrite(\"./left/%06d.jpg\" % count, leftframe)\n",
    "        cv.imwrite(\"./right/%06d.jpg\" % count, rightframe)\n",
    "        count = count + 1\n",
    "        #     cap.set(1,count*5)\n",
    "#         cv.waitKey(2)\n",
    "    \n",
    "    if cv.waitKey(1) == ord('q'):\n",
    "        break"
   ]
  },
  {
   "cell_type": "code",
   "execution_count": null,
   "id": "ff2d344e",
   "metadata": {},
   "outputs": [],
   "source": [
    "cap = cv.VideoCapture('path to video file')\n",
    "count = 0\n",
    "while cap.isOpened():\n",
    "    ret,frame = cap.read()\n",
    "    cv.imshow('window-name', frame)\n",
    "    cv.imwrite(\"frame%d.jpg\" % count, frame)\n",
    "    count = count + 1\n",
    "    if cv.waitKey(10) & 0xFF == ord('q'):\n",
    "        break\n"
   ]
  },
  {
   "cell_type": "code",
   "execution_count": 40,
   "id": "010261da",
   "metadata": {},
   "outputs": [],
   "source": [
    "# When everything done, release the capture\n",
    "cap.release()\n",
    "cv.destroyAllWindows()"
   ]
  }
 ],
 "metadata": {
  "kernelspec": {
   "display_name": "Python 3",
   "language": "python",
   "name": "python3"
  },
  "language_info": {
   "codemirror_mode": {
    "name": "ipython",
    "version": 3
   },
   "file_extension": ".py",
   "mimetype": "text/x-python",
   "name": "python",
   "nbconvert_exporter": "python",
   "pygments_lexer": "ipython3",
   "version": "3.7.6"
  }
 },
 "nbformat": 4,
 "nbformat_minor": 5
}
