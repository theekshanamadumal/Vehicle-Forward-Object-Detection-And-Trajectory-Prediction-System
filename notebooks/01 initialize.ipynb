{
 "cells": [
  {
   "cell_type": "code",
   "execution_count": 1,
   "id": "03f4dd3a",
   "metadata": {},
   "outputs": [
    {
     "name": "stdout",
     "output_type": "stream",
     "text": [
      "CUDA available: True\n"
     ]
    }
   ],
   "source": [
    "import torch\n",
    "# Is CUDA available now?\n",
    "print('CUDA available: {}'.format(torch.cuda.is_available()))"
   ]
  },
  {
   "cell_type": "code",
   "execution_count": 1,
   "id": "871513b3",
   "metadata": {},
   "outputs": [
    {
     "name": "stdout",
     "output_type": "stream",
     "text": [
      "# conda environments:\r\n",
      "#\r\n",
      "base                     /home/chirathv97/anaconda3\r\n",
      "yolo3dpy37            *  /home/chirathv97/anaconda3/envs/yolo3dpy37\r\n",
      "\r\n"
     ]
    }
   ],
   "source": [
    "!conda env list"
   ]
  },
  {
   "cell_type": "code",
   "execution_count": 1,
   "id": "e80cde26",
   "metadata": {},
   "outputs": [
    {
     "data": {
      "text/plain": [
       "'/home/theekshana/Documents/visualDet3D'"
      ]
     },
     "execution_count": 1,
     "metadata": {},
     "output_type": "execute_result"
    }
   ],
   "source": [
    "import os\n",
    "os.getcwd()"
   ]
  },
  {
   "cell_type": "code",
   "execution_count": 45,
   "id": "96e2e4cd",
   "metadata": {},
   "outputs": [
    {
     "name": "stdout",
     "output_type": "stream",
     "text": [
      "C:\\Users\\FYP\\Documents\\code\\visualDet3D\n"
     ]
    }
   ],
   "source": [
    "cd .."
   ]
  },
  {
   "cell_type": "code",
   "execution_count": 2,
   "id": "bdbfbe3e",
   "metadata": {},
   "outputs": [],
   "source": [
    "!chmod 777 -R /home/theekshana/Documents/visualDet3D"
   ]
  },
  {
   "cell_type": "code",
   "execution_count": 52,
   "id": "bf9f08c7",
   "metadata": {},
   "outputs": [
    {
     "name": "stdout",
     "output_type": "stream",
     "text": [
      "Requirement already satisfied: numpy in /home/theekshana/anaconda3/envs/YOLO3D/lib/python3.7/site-packages (from -r requirement.txt (line 1)) (1.21.5)\n",
      "Requirement already satisfied: torch in /home/theekshana/anaconda3/envs/YOLO3D/lib/python3.7/site-packages (from -r requirement.txt (line 2)) (1.13.1)\n",
      "Requirement already satisfied: torchvision in /home/theekshana/anaconda3/envs/YOLO3D/lib/python3.7/site-packages (from -r requirement.txt (line 3)) (0.14.1)\n",
      "Requirement already satisfied: pillow in /home/theekshana/anaconda3/envs/YOLO3D/lib/python3.7/site-packages (from -r requirement.txt (line 4)) (9.4.0)\n",
      "Requirement already satisfied: scikit-image in /home/theekshana/anaconda3/envs/YOLO3D/lib/python3.7/site-packages (from -r requirement.txt (line 5)) (0.19.3)\n",
      "Requirement already satisfied: fire in /home/theekshana/anaconda3/envs/YOLO3D/lib/python3.7/site-packages (from -r requirement.txt (line 6)) (0.5.0)\n",
      "Requirement already satisfied: matplotlib in /home/theekshana/anaconda3/envs/YOLO3D/lib/python3.7/site-packages (from -r requirement.txt (line 7)) (3.5.3)\n",
      "Requirement already satisfied: opencv-python in /home/theekshana/anaconda3/envs/YOLO3D/lib/python3.7/site-packages (from -r requirement.txt (line 8)) (4.7.0.72)\n",
      "Requirement already satisfied: numba in /home/theekshana/anaconda3/envs/YOLO3D/lib/python3.7/site-packages (from -r requirement.txt (line 9)) (0.56.4)\n",
      "Requirement already satisfied: easydict in /home/theekshana/anaconda3/envs/YOLO3D/lib/python3.7/site-packages (from -r requirement.txt (line 10)) (1.10)\n",
      "Requirement already satisfied: tensorflow>=2.0 in /home/theekshana/anaconda3/envs/YOLO3D/lib/python3.7/site-packages (from -r requirement.txt (line 11)) (2.11.0)\n",
      "Requirement already satisfied: cython in /home/theekshana/anaconda3/envs/YOLO3D/lib/python3.7/site-packages (from -r requirement.txt (line 12)) (0.29.33)\n",
      "Requirement already satisfied: tqdm in /home/theekshana/anaconda3/envs/YOLO3D/lib/python3.7/site-packages (from -r requirement.txt (line 13)) (4.65.0)\n",
      "Requirement already satisfied: pyquaternion in /home/theekshana/anaconda3/envs/YOLO3D/lib/python3.7/site-packages (from -r requirement.txt (line 14)) (0.9.9)\n",
      "Requirement already satisfied: typing_extensions in /home/theekshana/anaconda3/envs/YOLO3D/lib/python3.7/site-packages (from torch->-r requirement.txt (line 2)) (4.3.0)\n",
      "Requirement already satisfied: requests in /home/theekshana/anaconda3/envs/YOLO3D/lib/python3.7/site-packages (from torchvision->-r requirement.txt (line 3)) (2.28.1)\n",
      "Requirement already satisfied: scipy>=1.4.1 in /home/theekshana/anaconda3/envs/YOLO3D/lib/python3.7/site-packages (from scikit-image->-r requirement.txt (line 5)) (1.7.3)\n",
      "Requirement already satisfied: imageio>=2.4.1 in /home/theekshana/anaconda3/envs/YOLO3D/lib/python3.7/site-packages (from scikit-image->-r requirement.txt (line 5)) (2.26.1)\n",
      "Requirement already satisfied: tifffile>=2019.7.26 in /home/theekshana/anaconda3/envs/YOLO3D/lib/python3.7/site-packages (from scikit-image->-r requirement.txt (line 5)) (2021.11.2)\n",
      "Requirement already satisfied: packaging>=20.0 in /home/theekshana/anaconda3/envs/YOLO3D/lib/python3.7/site-packages (from scikit-image->-r requirement.txt (line 5)) (22.0)\n",
      "Requirement already satisfied: networkx>=2.2 in /home/theekshana/anaconda3/envs/YOLO3D/lib/python3.7/site-packages (from scikit-image->-r requirement.txt (line 5)) (2.6.3)\n",
      "Requirement already satisfied: PyWavelets>=1.1.1 in /home/theekshana/anaconda3/envs/YOLO3D/lib/python3.7/site-packages (from scikit-image->-r requirement.txt (line 5)) (1.3.0)\n",
      "Requirement already satisfied: termcolor in /home/theekshana/anaconda3/envs/YOLO3D/lib/python3.7/site-packages (from fire->-r requirement.txt (line 6)) (2.2.0)\n",
      "Requirement already satisfied: six in /home/theekshana/anaconda3/envs/YOLO3D/lib/python3.7/site-packages (from fire->-r requirement.txt (line 6)) (1.16.0)\n",
      "Requirement already satisfied: kiwisolver>=1.0.1 in /home/theekshana/anaconda3/envs/YOLO3D/lib/python3.7/site-packages (from matplotlib->-r requirement.txt (line 7)) (1.4.4)\n",
      "Requirement already satisfied: fonttools>=4.22.0 in /home/theekshana/anaconda3/envs/YOLO3D/lib/python3.7/site-packages (from matplotlib->-r requirement.txt (line 7)) (4.38.0)\n",
      "Requirement already satisfied: python-dateutil>=2.7 in /home/theekshana/anaconda3/envs/YOLO3D/lib/python3.7/site-packages (from matplotlib->-r requirement.txt (line 7)) (2.8.2)\n",
      "Requirement already satisfied: cycler>=0.10 in /home/theekshana/anaconda3/envs/YOLO3D/lib/python3.7/site-packages (from matplotlib->-r requirement.txt (line 7)) (0.11.0)\n",
      "Requirement already satisfied: pyparsing>=2.2.1 in /home/theekshana/anaconda3/envs/YOLO3D/lib/python3.7/site-packages (from matplotlib->-r requirement.txt (line 7)) (3.0.9)\n",
      "Requirement already satisfied: llvmlite<0.40,>=0.39.0dev0 in /home/theekshana/anaconda3/envs/YOLO3D/lib/python3.7/site-packages (from numba->-r requirement.txt (line 9)) (0.39.1)\n",
      "Requirement already satisfied: importlib-metadata in /home/theekshana/anaconda3/envs/YOLO3D/lib/python3.7/site-packages (from numba->-r requirement.txt (line 9)) (6.1.0)\n",
      "Requirement already satisfied: setuptools in /home/theekshana/anaconda3/envs/YOLO3D/lib/python3.7/site-packages (from numba->-r requirement.txt (line 9)) (65.6.3)\n",
      "Requirement already satisfied: gast<=0.4.0,>=0.2.1 in /home/theekshana/anaconda3/envs/YOLO3D/lib/python3.7/site-packages (from tensorflow>=2.0->-r requirement.txt (line 11)) (0.4.0)\n",
      "Requirement already satisfied: astunparse>=1.6.0 in /home/theekshana/anaconda3/envs/YOLO3D/lib/python3.7/site-packages (from tensorflow>=2.0->-r requirement.txt (line 11)) (1.6.3)\n",
      "Requirement already satisfied: grpcio<2.0,>=1.24.3 in /home/theekshana/anaconda3/envs/YOLO3D/lib/python3.7/site-packages (from tensorflow>=2.0->-r requirement.txt (line 11)) (1.51.3)\n",
      "Requirement already satisfied: h5py>=2.9.0 in /home/theekshana/anaconda3/envs/YOLO3D/lib/python3.7/site-packages (from tensorflow>=2.0->-r requirement.txt (line 11)) (3.8.0)\n",
      "Requirement already satisfied: opt-einsum>=2.3.2 in /home/theekshana/anaconda3/envs/YOLO3D/lib/python3.7/site-packages (from tensorflow>=2.0->-r requirement.txt (line 11)) (3.3.0)\n",
      "Requirement already satisfied: protobuf<3.20,>=3.9.2 in /home/theekshana/anaconda3/envs/YOLO3D/lib/python3.7/site-packages (from tensorflow>=2.0->-r requirement.txt (line 11)) (3.19.6)\n",
      "Requirement already satisfied: tensorflow-estimator<2.12,>=2.11.0 in /home/theekshana/anaconda3/envs/YOLO3D/lib/python3.7/site-packages (from tensorflow>=2.0->-r requirement.txt (line 11)) (2.11.0)\n",
      "Requirement already satisfied: libclang>=13.0.0 in /home/theekshana/anaconda3/envs/YOLO3D/lib/python3.7/site-packages (from tensorflow>=2.0->-r requirement.txt (line 11)) (16.0.0)\n",
      "Requirement already satisfied: keras<2.12,>=2.11.0 in /home/theekshana/anaconda3/envs/YOLO3D/lib/python3.7/site-packages (from tensorflow>=2.0->-r requirement.txt (line 11)) (2.11.0)\n",
      "Requirement already satisfied: google-pasta>=0.1.1 in /home/theekshana/anaconda3/envs/YOLO3D/lib/python3.7/site-packages (from tensorflow>=2.0->-r requirement.txt (line 11)) (0.2.0)\n",
      "Requirement already satisfied: tensorboard<2.12,>=2.11 in /home/theekshana/anaconda3/envs/YOLO3D/lib/python3.7/site-packages (from tensorflow>=2.0->-r requirement.txt (line 11)) (2.11.2)\n",
      "Requirement already satisfied: wrapt>=1.11.0 in /home/theekshana/anaconda3/envs/YOLO3D/lib/python3.7/site-packages (from tensorflow>=2.0->-r requirement.txt (line 11)) (1.15.0)\n",
      "Requirement already satisfied: absl-py>=1.0.0 in /home/theekshana/anaconda3/envs/YOLO3D/lib/python3.7/site-packages (from tensorflow>=2.0->-r requirement.txt (line 11)) (1.4.0)\n",
      "Requirement already satisfied: tensorflow-io-gcs-filesystem>=0.23.1 in /home/theekshana/anaconda3/envs/YOLO3D/lib/python3.7/site-packages (from tensorflow>=2.0->-r requirement.txt (line 11)) (0.31.0)\n",
      "Requirement already satisfied: flatbuffers>=2.0 in /home/theekshana/anaconda3/envs/YOLO3D/lib/python3.7/site-packages (from tensorflow>=2.0->-r requirement.txt (line 11)) (23.3.3)\n",
      "Requirement already satisfied: wheel<1.0,>=0.23.0 in /home/theekshana/anaconda3/envs/YOLO3D/lib/python3.7/site-packages (from astunparse>=1.6.0->tensorflow>=2.0->-r requirement.txt (line 11)) (0.38.4)\n",
      "Requirement already satisfied: google-auth<3,>=1.6.3 in /home/theekshana/anaconda3/envs/YOLO3D/lib/python3.7/site-packages (from tensorboard<2.12,>=2.11->tensorflow>=2.0->-r requirement.txt (line 11)) (2.16.3)\n",
      "Requirement already satisfied: google-auth-oauthlib<0.5,>=0.4.1 in /home/theekshana/anaconda3/envs/YOLO3D/lib/python3.7/site-packages (from tensorboard<2.12,>=2.11->tensorflow>=2.0->-r requirement.txt (line 11)) (0.4.6)\n",
      "Requirement already satisfied: markdown>=2.6.8 in /home/theekshana/anaconda3/envs/YOLO3D/lib/python3.7/site-packages (from tensorboard<2.12,>=2.11->tensorflow>=2.0->-r requirement.txt (line 11)) (3.4.3)\n",
      "Requirement already satisfied: tensorboard-plugin-wit>=1.6.0 in /home/theekshana/anaconda3/envs/YOLO3D/lib/python3.7/site-packages (from tensorboard<2.12,>=2.11->tensorflow>=2.0->-r requirement.txt (line 11)) (1.8.1)\n",
      "Requirement already satisfied: werkzeug>=1.0.1 in /home/theekshana/anaconda3/envs/YOLO3D/lib/python3.7/site-packages (from tensorboard<2.12,>=2.11->tensorflow>=2.0->-r requirement.txt (line 11)) (2.2.3)\n",
      "Requirement already satisfied: tensorboard-data-server<0.7.0,>=0.6.0 in /home/theekshana/anaconda3/envs/YOLO3D/lib/python3.7/site-packages (from tensorboard<2.12,>=2.11->tensorflow>=2.0->-r requirement.txt (line 11)) (0.6.1)\n"
     ]
    },
    {
     "name": "stdout",
     "output_type": "stream",
     "text": [
      "Requirement already satisfied: charset-normalizer<3,>=2 in /home/theekshana/anaconda3/envs/YOLO3D/lib/python3.7/site-packages (from requests->torchvision->-r requirement.txt (line 3)) (2.0.4)\n",
      "Requirement already satisfied: idna<4,>=2.5 in /home/theekshana/anaconda3/envs/YOLO3D/lib/python3.7/site-packages (from requests->torchvision->-r requirement.txt (line 3)) (3.4)\n",
      "Requirement already satisfied: certifi>=2017.4.17 in /home/theekshana/anaconda3/envs/YOLO3D/lib/python3.7/site-packages (from requests->torchvision->-r requirement.txt (line 3)) (2022.12.7)\n",
      "Requirement already satisfied: urllib3<1.27,>=1.21.1 in /home/theekshana/anaconda3/envs/YOLO3D/lib/python3.7/site-packages (from requests->torchvision->-r requirement.txt (line 3)) (1.26.14)\n",
      "Requirement already satisfied: zipp>=0.5 in /home/theekshana/anaconda3/envs/YOLO3D/lib/python3.7/site-packages (from importlib-metadata->numba->-r requirement.txt (line 9)) (3.15.0)\n",
      "Requirement already satisfied: pyasn1-modules>=0.2.1 in /home/theekshana/anaconda3/envs/YOLO3D/lib/python3.7/site-packages (from google-auth<3,>=1.6.3->tensorboard<2.12,>=2.11->tensorflow>=2.0->-r requirement.txt (line 11)) (0.2.8)\n",
      "Requirement already satisfied: cachetools<6.0,>=2.0.0 in /home/theekshana/anaconda3/envs/YOLO3D/lib/python3.7/site-packages (from google-auth<3,>=1.6.3->tensorboard<2.12,>=2.11->tensorflow>=2.0->-r requirement.txt (line 11)) (5.3.0)\n",
      "Requirement already satisfied: rsa<5,>=3.1.4 in /home/theekshana/anaconda3/envs/YOLO3D/lib/python3.7/site-packages (from google-auth<3,>=1.6.3->tensorboard<2.12,>=2.11->tensorflow>=2.0->-r requirement.txt (line 11)) (4.9)\n",
      "Requirement already satisfied: requests-oauthlib>=0.7.0 in /home/theekshana/anaconda3/envs/YOLO3D/lib/python3.7/site-packages (from google-auth-oauthlib<0.5,>=0.4.1->tensorboard<2.12,>=2.11->tensorflow>=2.0->-r requirement.txt (line 11)) (1.3.1)\n",
      "Requirement already satisfied: MarkupSafe>=2.1.1 in /home/theekshana/anaconda3/envs/YOLO3D/lib/python3.7/site-packages (from werkzeug>=1.0.1->tensorboard<2.12,>=2.11->tensorflow>=2.0->-r requirement.txt (line 11)) (2.1.1)\n",
      "Requirement already satisfied: pyasn1<0.5.0,>=0.4.6 in /home/theekshana/anaconda3/envs/YOLO3D/lib/python3.7/site-packages (from pyasn1-modules>=0.2.1->google-auth<3,>=1.6.3->tensorboard<2.12,>=2.11->tensorflow>=2.0->-r requirement.txt (line 11)) (0.4.8)\n",
      "Requirement already satisfied: oauthlib>=3.0.0 in /home/theekshana/anaconda3/envs/YOLO3D/lib/python3.7/site-packages (from requests-oauthlib>=0.7.0->google-auth-oauthlib<0.5,>=0.4.1->tensorboard<2.12,>=2.11->tensorflow>=2.0->-r requirement.txt (line 11)) (3.2.2)\n"
     ]
    }
   ],
   "source": [
    "!pip install -r requirement.txt"
   ]
  },
  {
   "cell_type": "code",
   "execution_count": 4,
   "id": "135267b4",
   "metadata": {},
   "outputs": [
    {
     "name": "stdout",
     "output_type": "stream",
     "text": [
      "~/Documents/visualDet3D/visualDet3D/networks/lib/ops/dcn ~/Documents/visualDet3D\n",
      "running build_ext\n",
      "building '..deform_conv_ext' extension\n",
      "creating /home/theekshana/Documents/visualDet3D/visualDet3D/networks/lib/ops/dcn/build\n",
      "creating /home/theekshana/Documents/visualDet3D/visualDet3D/networks/lib/ops/dcn/build/temp.linux-x86_64-cpython-37\n",
      "creating /home/theekshana/Documents/visualDet3D/visualDet3D/networks/lib/ops/dcn/build/temp.linux-x86_64-cpython-37/src\n",
      "creating /home/theekshana/Documents/visualDet3D/visualDet3D/networks/lib/ops/dcn/build/temp.linux-x86_64-cpython-37/src/cuda\n",
      "Emitting ninja build file /home/theekshana/Documents/visualDet3D/visualDet3D/networks/lib/ops/dcn/build/temp.linux-x86_64-cpython-37/build.ninja...\n",
      "Compiling objects...\n",
      "Allowing ninja to set a default number of workers... (overridable by setting the environment variable MAX_JOBS=N)\n",
      "[1/3] c++ -MMD -MF /home/theekshana/Documents/visualDet3D/visualDet3D/networks/lib/ops/dcn/build/temp.linux-x86_64-cpython-37/src/deform_conv_ext.o.d -pthread -B /home/theekshana/anaconda3/envs/YOLO3D/compiler_compat -Wl,--sysroot=/ -Wsign-compare -DNDEBUG -g -fwrapv -O3 -Wall -Wstrict-prototypes -I/home/theekshana/anaconda3/envs/YOLO3D/include -fPIC -DWITH_CUDA -I/home/theekshana/anaconda3/envs/YOLO3D/lib/python3.7/site-packages/torch/include -I/home/theekshana/anaconda3/envs/YOLO3D/lib/python3.7/site-packages/torch/include/torch/csrc/api/include -I/home/theekshana/anaconda3/envs/YOLO3D/lib/python3.7/site-packages/torch/include/TH -I/home/theekshana/anaconda3/envs/YOLO3D/lib/python3.7/site-packages/torch/include/THC -I/home/theekshana/anaconda3/envs/YOLO3D/include -I/home/theekshana/anaconda3/envs/YOLO3D/include/python3.7m -c -c /home/theekshana/Documents/visualDet3D/visualDet3D/networks/lib/ops/dcn/src/deform_conv_ext.cpp -o /home/theekshana/Documents/visualDet3D/visualDet3D/networks/lib/ops/dcn/build/temp.linux-x86_64-cpython-37/src/deform_conv_ext.o -DTORCH_API_INCLUDE_EXTENSION_H '-DPYBIND11_COMPILER_TYPE=\"_gcc\"' '-DPYBIND11_STDLIB=\"_libstdcpp\"' '-DPYBIND11_BUILD_ABI=\"_cxxabi1011\"' -DTORCH_EXTENSION_NAME=deform_conv_ext -D_GLIBCXX_USE_CXX11_ABI=0 -std=c++14\n",
      "cc1plus: warning: command-line option ‘-Wstrict-prototypes’ is valid for C/ObjC but not for C++\n",
      "[2/3] c++ -MMD -MF /home/theekshana/Documents/visualDet3D/visualDet3D/networks/lib/ops/dcn/build/temp.linux-x86_64-cpython-37/src/cuda/deform_conv_cuda.o.d -pthread -B /home/theekshana/anaconda3/envs/YOLO3D/compiler_compat -Wl,--sysroot=/ -Wsign-compare -DNDEBUG -g -fwrapv -O3 -Wall -Wstrict-prototypes -I/home/theekshana/anaconda3/envs/YOLO3D/include -fPIC -DWITH_CUDA -I/home/theekshana/anaconda3/envs/YOLO3D/lib/python3.7/site-packages/torch/include -I/home/theekshana/anaconda3/envs/YOLO3D/lib/python3.7/site-packages/torch/include/torch/csrc/api/include -I/home/theekshana/anaconda3/envs/YOLO3D/lib/python3.7/site-packages/torch/include/TH -I/home/theekshana/anaconda3/envs/YOLO3D/lib/python3.7/site-packages/torch/include/THC -I/home/theekshana/anaconda3/envs/YOLO3D/include -I/home/theekshana/anaconda3/envs/YOLO3D/include/python3.7m -c -c /home/theekshana/Documents/visualDet3D/visualDet3D/networks/lib/ops/dcn/src/cuda/deform_conv_cuda.cpp -o /home/theekshana/Documents/visualDet3D/visualDet3D/networks/lib/ops/dcn/build/temp.linux-x86_64-cpython-37/src/cuda/deform_conv_cuda.o -DTORCH_API_INCLUDE_EXTENSION_H '-DPYBIND11_COMPILER_TYPE=\"_gcc\"' '-DPYBIND11_STDLIB=\"_libstdcpp\"' '-DPYBIND11_BUILD_ABI=\"_cxxabi1011\"' -DTORCH_EXTENSION_NAME=deform_conv_ext -D_GLIBCXX_USE_CXX11_ABI=0 -std=c++14\n",
      "cc1plus: warning: command-line option ‘-Wstrict-prototypes’ is valid for C/ObjC but not for C++\n",
      "[3/3] /home/theekshana/anaconda3/envs/YOLO3D/bin/nvcc  -DWITH_CUDA -I/home/theekshana/anaconda3/envs/YOLO3D/lib/python3.7/site-packages/torch/include -I/home/theekshana/anaconda3/envs/YOLO3D/lib/python3.7/site-packages/torch/include/torch/csrc/api/include -I/home/theekshana/anaconda3/envs/YOLO3D/lib/python3.7/site-packages/torch/include/TH -I/home/theekshana/anaconda3/envs/YOLO3D/lib/python3.7/site-packages/torch/include/THC -I/home/theekshana/anaconda3/envs/YOLO3D/include -I/home/theekshana/anaconda3/envs/YOLO3D/include/python3.7m -c -c /home/theekshana/Documents/visualDet3D/visualDet3D/networks/lib/ops/dcn/src/cuda/deform_conv_cuda_kernel.cu -o /home/theekshana/Documents/visualDet3D/visualDet3D/networks/lib/ops/dcn/build/temp.linux-x86_64-cpython-37/src/cuda/deform_conv_cuda_kernel.o -D__CUDA_NO_HALF_OPERATORS__ -D__CUDA_NO_HALF_CONVERSIONS__ -D__CUDA_NO_BFLOAT16_CONVERSIONS__ -D__CUDA_NO_HALF2_OPERATORS__ --expt-relaxed-constexpr --compiler-options ''\"'\"'-fPIC'\"'\"'' -D__CUDA_NO_HALF_OPERATORS__ -D__CUDA_NO_HALF_CONVERSIONS__ -D__CUDA_NO_HALF2_OPERATORS__ -DTORCH_API_INCLUDE_EXTENSION_H '-DPYBIND11_COMPILER_TYPE=\"_gcc\"' '-DPYBIND11_STDLIB=\"_libstdcpp\"' '-DPYBIND11_BUILD_ABI=\"_cxxabi1011\"' -DTORCH_EXTENSION_NAME=deform_conv_ext -D_GLIBCXX_USE_CXX11_ABI=0 -gencode=arch=compute_50,code=compute_50 -gencode=arch=compute_50,code=sm_50 -std=c++14\n",
      "creating build/lib.linux-x86_64-cpython-37\n",
      "g++ -pthread -B /home/theekshana/anaconda3/envs/YOLO3D/compiler_compat -Wl,--sysroot=/ -pthread -shared -B /home/theekshana/anaconda3/envs/YOLO3D/compiler_compat -L/home/theekshana/anaconda3/envs/YOLO3D/lib -Wl,-rpath=/home/theekshana/anaconda3/envs/YOLO3D/lib -Wl,--no-as-needed -Wl,--sysroot=/ -I/home/theekshana/anaconda3/envs/YOLO3D/include /home/theekshana/Documents/visualDet3D/visualDet3D/networks/lib/ops/dcn/build/temp.linux-x86_64-cpython-37/src/cuda/deform_conv_cuda.o /home/theekshana/Documents/visualDet3D/visualDet3D/networks/lib/ops/dcn/build/temp.linux-x86_64-cpython-37/src/cuda/deform_conv_cuda_kernel.o /home/theekshana/Documents/visualDet3D/visualDet3D/networks/lib/ops/dcn/build/temp.linux-x86_64-cpython-37/src/deform_conv_ext.o -L/home/theekshana/anaconda3/envs/YOLO3D/lib/python3.7/site-packages/torch/lib -L/home/theekshana/anaconda3/envs/YOLO3D/lib -lc10 -ltorch -ltorch_cpu -ltorch_python -lcudart -lc10_cuda -ltorch_cuda_cu -ltorch_cuda_cpp -o build/lib.linux-x86_64-cpython-37/deform_conv_ext.cpython-37m-x86_64-linux-gnu.so\n",
      "copying build/lib.linux-x86_64-cpython-37/deform_conv_ext.cpython-37m-x86_64-linux-gnu.so -> \n",
      "~/Documents/visualDet3D\n",
      "~/Documents/visualDet3D/visualDet3D/networks/lib/ops/iou3d ~/Documents/visualDet3D\n",
      "running build_ext\n",
      "building '..iou3d_cuda' extension\n",
      "creating /home/theekshana/Documents/visualDet3D/visualDet3D/networks/lib/ops/iou3d/build\n",
      "creating /home/theekshana/Documents/visualDet3D/visualDet3D/networks/lib/ops/iou3d/build/temp.linux-x86_64-cpython-37\n",
      "creating /home/theekshana/Documents/visualDet3D/visualDet3D/networks/lib/ops/iou3d/build/temp.linux-x86_64-cpython-37/src\n",
      "Emitting ninja build file /home/theekshana/Documents/visualDet3D/visualDet3D/networks/lib/ops/iou3d/build/temp.linux-x86_64-cpython-37/build.ninja...\n",
      "Compiling objects...\n",
      "Allowing ninja to set a default number of workers... (overridable by setting the environment variable MAX_JOBS=N)\n",
      "[1/2] /home/theekshana/anaconda3/envs/YOLO3D/bin/nvcc  -DWITH_CUDA -I/home/theekshana/anaconda3/envs/YOLO3D/lib/python3.7/site-packages/torch/include -I/home/theekshana/anaconda3/envs/YOLO3D/lib/python3.7/site-packages/torch/include/torch/csrc/api/include -I/home/theekshana/anaconda3/envs/YOLO3D/lib/python3.7/site-packages/torch/include/TH -I/home/theekshana/anaconda3/envs/YOLO3D/lib/python3.7/site-packages/torch/include/THC -I/home/theekshana/anaconda3/envs/YOLO3D/include -I/home/theekshana/anaconda3/envs/YOLO3D/include/python3.7m -c -c /home/theekshana/Documents/visualDet3D/visualDet3D/networks/lib/ops/iou3d/src/iou3d_kernel.cu -o /home/theekshana/Documents/visualDet3D/visualDet3D/networks/lib/ops/iou3d/build/temp.linux-x86_64-cpython-37/src/iou3d_kernel.o -D__CUDA_NO_HALF_OPERATORS__ -D__CUDA_NO_HALF_CONVERSIONS__ -D__CUDA_NO_BFLOAT16_CONVERSIONS__ -D__CUDA_NO_HALF2_OPERATORS__ --expt-relaxed-constexpr --compiler-options ''\"'\"'-fPIC'\"'\"'' -D__CUDA_NO_HALF_OPERATORS__ -D__CUDA_NO_HALF_CONVERSIONS__ -D__CUDA_NO_HALF2_OPERATORS__ -DTORCH_API_INCLUDE_EXTENSION_H '-DPYBIND11_COMPILER_TYPE=\"_gcc\"' '-DPYBIND11_STDLIB=\"_libstdcpp\"' '-DPYBIND11_BUILD_ABI=\"_cxxabi1011\"' -DTORCH_EXTENSION_NAME=iou3d_cuda -D_GLIBCXX_USE_CXX11_ABI=0 -gencode=arch=compute_50,code=compute_50 -gencode=arch=compute_50,code=sm_50 -std=c++14\n"
     ]
    },
    {
     "name": "stdout",
     "output_type": "stream",
     "text": [
      "[2/2] c++ -MMD -MF /home/theekshana/Documents/visualDet3D/visualDet3D/networks/lib/ops/iou3d/build/temp.linux-x86_64-cpython-37/src/iou3d.o.d -pthread -B /home/theekshana/anaconda3/envs/YOLO3D/compiler_compat -Wl,--sysroot=/ -Wsign-compare -DNDEBUG -g -fwrapv -O3 -Wall -Wstrict-prototypes -fopenmp -I/home/theekshana/anaconda3/envs/YOLO3D/include -fPIC -DWITH_CUDA -I/home/theekshana/anaconda3/envs/YOLO3D/lib/python3.7/site-packages/torch/include -I/home/theekshana/anaconda3/envs/YOLO3D/lib/python3.7/site-packages/torch/include/torch/csrc/api/include -I/home/theekshana/anaconda3/envs/YOLO3D/lib/python3.7/site-packages/torch/include/TH -I/home/theekshana/anaconda3/envs/YOLO3D/lib/python3.7/site-packages/torch/include/THC -I/home/theekshana/anaconda3/envs/YOLO3D/include -I/home/theekshana/anaconda3/envs/YOLO3D/include/python3.7m -c -c /home/theekshana/Documents/visualDet3D/visualDet3D/networks/lib/ops/iou3d/src/iou3d.cpp -o /home/theekshana/Documents/visualDet3D/visualDet3D/networks/lib/ops/iou3d/build/temp.linux-x86_64-cpython-37/src/iou3d.o -DTORCH_API_INCLUDE_EXTENSION_H '-DPYBIND11_COMPILER_TYPE=\"_gcc\"' '-DPYBIND11_STDLIB=\"_libstdcpp\"' '-DPYBIND11_BUILD_ABI=\"_cxxabi1011\"' -DTORCH_EXTENSION_NAME=iou3d_cuda -D_GLIBCXX_USE_CXX11_ABI=0 -std=c++14\n",
      "cc1plus: warning: command-line option ‘-Wstrict-prototypes’ is valid for C/ObjC but not for C++\n",
      "creating build/lib.linux-x86_64-cpython-37\n",
      "g++ -pthread -B /home/theekshana/anaconda3/envs/YOLO3D/compiler_compat -Wl,--sysroot=/ -pthread -shared -B /home/theekshana/anaconda3/envs/YOLO3D/compiler_compat -L/home/theekshana/anaconda3/envs/YOLO3D/lib -Wl,-rpath=/home/theekshana/anaconda3/envs/YOLO3D/lib -Wl,--no-as-needed -Wl,--sysroot=/ -fopenmp -I/home/theekshana/anaconda3/envs/YOLO3D/include /home/theekshana/Documents/visualDet3D/visualDet3D/networks/lib/ops/iou3d/build/temp.linux-x86_64-cpython-37/src/iou3d.o /home/theekshana/Documents/visualDet3D/visualDet3D/networks/lib/ops/iou3d/build/temp.linux-x86_64-cpython-37/src/iou3d_kernel.o -L/home/theekshana/anaconda3/envs/YOLO3D/lib/python3.7/site-packages/torch/lib -L/home/theekshana/anaconda3/envs/YOLO3D/lib -lc10 -ltorch -ltorch_cpu -ltorch_python -lcudart -lc10_cuda -ltorch_cuda_cu -ltorch_cuda_cpp -o build/lib.linux-x86_64-cpython-37/iou3d_cuda.cpython-37m-x86_64-linux-gnu.so\n",
      "copying build/lib.linux-x86_64-cpython-37/iou3d_cuda.cpython-37m-x86_64-linux-gnu.so -> \n",
      "~/Documents/visualDet3D\n"
     ]
    }
   ],
   "source": [
    "!./make.sh"
   ]
  },
  {
   "cell_type": "code",
   "execution_count": 16,
   "id": "3ecf53fd",
   "metadata": {},
   "outputs": [
    {
     "data": {
      "text/plain": [
       "'11.6'"
      ]
     },
     "execution_count": 16,
     "metadata": {},
     "output_type": "execute_result"
    }
   ],
   "source": [
    "torch.version.cuda"
   ]
  },
  {
   "cell_type": "code",
   "execution_count": 54,
   "id": "396fef49",
   "metadata": {
    "scrolled": true
   },
   "outputs": [
    {
     "name": "stdout",
     "output_type": "stream",
     "text": [
      "Requirement already satisfied: coloredlogs in /home/theekshana/anaconda3/envs/YOLO3D/lib/python3.7/site-packages (15.0.1)\r\n",
      "Requirement already satisfied: humanfriendly>=9.1 in /home/theekshana/anaconda3/envs/YOLO3D/lib/python3.7/site-packages (from coloredlogs) (10.0)\r\n"
     ]
    }
   ],
   "source": [
    "!pip install coloredlogs"
   ]
  },
  {
   "cell_type": "code",
   "execution_count": 21,
   "id": "32a7624c",
   "metadata": {},
   "outputs": [
    {
     "data": {
      "text/plain": [
       "'/home/theekshana/Documents/visualDet3D'"
      ]
     },
     "execution_count": 21,
     "metadata": {},
     "output_type": "execute_result"
    }
   ],
   "source": [
    "%pwd"
   ]
  },
  {
   "cell_type": "code",
   "execution_count": 2,
   "id": "184359e6",
   "metadata": {},
   "outputs": [],
   "source": [
    "import sys\n",
    "# sys.path.append(\"../\")\n",
    "import importlib\n",
    "import os\n",
    "import copy\n",
    "import numpy as np\n",
    "import matplotlib.pyplot as plt\n",
    "import cv2\n",
    "import cython\n",
    "import torch\n",
    "import torch.nn as nn\n",
    "from torch.utils.data import Dataset, DataLoader\n",
    "from torch.utils.tensorboard import SummaryWriter\n",
    "from torchvision import datasets, models, transforms\n",
    "import torchvision\n",
    "from numba import jit\n",
    "from tqdm import tqdm"
   ]
  },
  {
   "cell_type": "code",
   "execution_count": 3,
   "id": "46b3a557",
   "metadata": {},
   "outputs": [],
   "source": [
    "from visualDet3D.data.kitti.utils import write_result_to_file\n",
    "from visualDet3D.utils.utils import LossLogger, cfg_from_file\n",
    "from visualDet3D.networks.utils.registry import DETECTOR_DICT, DATASET_DICT, PIPELINE_DICT\n",
    "from visualDet3D.networks.heads.anchors import Anchors\n",
    "from visualDet3D.networks.lib.fast_utils.hill_climbing import post_opt\n",
    "from visualDet3D.networks.utils import BBox3dProjector, BackProjection\n",
    "from visualDet3D.utils.utils import convertAlpha2Rot, convertRot2Alpha, draw_3D_box, compound_annotation\n",
    "import visualDet3D.data.kitti.dataset\n",
    "from visualDet3D.utils.timer import Timer"
   ]
  },
  {
   "cell_type": "code",
   "execution_count": 4,
   "id": "066f163b",
   "metadata": {},
   "outputs": [
    {
     "name": "stdout",
     "output_type": "stream",
     "text": [
      "CUDA available: True\n"
     ]
    }
   ],
   "source": [
    "print('CUDA available: {}'.format(torch.cuda.is_available()))\n",
    "\n",
    "cfg = cfg_from_file(\"config/config.py\")\n",
    "is_test_train = True\n",
    "\n",
    "checkpoint_name = \"Stereo3D_latest.pth\""
   ]
  },
  {
   "cell_type": "code",
   "execution_count": null,
   "id": "191494b7",
   "metadata": {},
   "outputs": [],
   "source": [
    "#!./launchers/eval.sh config/config.py 0 $CHECKPOINT_PATH validation/test"
   ]
  },
  {
   "cell_type": "markdown",
   "id": "0aaf8287",
   "metadata": {},
   "source": [
    "### Compute image database and anchors mean/std"
   ]
  },
  {
   "cell_type": "code",
   "execution_count": 2,
   "id": "2daf2280",
   "metadata": {},
   "outputs": [
    {
     "name": "stdout",
     "output_type": "stream",
     "text": [
      "Precomputation for the training/validation split\n",
      "start reading training data\n",
      "training split finished precomputing02s, eta:2.00s, total_objs:[20792, 3682], usable_objs:[19582, 3283]]\n",
      "start reading validation data\n",
      "validation split finished precomputings, eta:0.02s, total_objs:[0, 0], usable_objs:[0, 0]\n",
      "Preprocessing finished\n"
     ]
    }
   ],
   "source": [
    "!./launchers/det_precompute.sh config/config.py train"
   ]
  },
  {
   "cell_type": "code",
   "execution_count": 3,
   "id": "7ef2efc2",
   "metadata": {
    "scrolled": true
   },
   "outputs": [
    {
     "name": "stdout",
     "output_type": "stream",
     "text": [
      "Precomputation for the test split\n",
      "start reading test data\n",
      "test split finished precomputing00s, eta:0.01s\n",
      "Preprocessing finished\n"
     ]
    }
   ],
   "source": [
    "!./launchers/det_precompute.sh config/config.py test"
   ]
  },
  {
   "cell_type": "code",
   "execution_count": null,
   "id": "59771e10",
   "metadata": {},
   "outputs": [],
   "source": [
    "## run this if disparity map is needed, can be computed with point cloud or openCV BlockMatching\n",
    "# You can run ./launcher/disparity_precompute.sh without arguments to see helper documents\n",
    "!./disparity_precompute.sh config/config.py $IsUsingPointCloud"
   ]
  },
  {
   "cell_type": "code",
   "execution_count": null,
   "id": "fa9fb2a5",
   "metadata": {},
   "outputs": [],
   "source": [
    "## train the model with one GPU\n",
    "# You can run ./launcher/train.sh without arguments to see helper documents\n",
    "!./launcher/train.sh  config/config.py 0 $experiment_name # validation goes along"
   ]
  },
  {
   "cell_type": "code",
   "execution_count": null,
   "id": "01f88c0b",
   "metadata": {},
   "outputs": [],
   "source": [
    "## produce validation/test result # we only support single GPU testing\n",
    "# You can run ./launcher/eval.sh without arguments to see helper documents\n",
    "!./launcher/eval.sh -config/config.py 0 $CHECKPOINT_PATH validation/test"
   ]
  }
 ],
 "metadata": {
  "kernelspec": {
   "display_name": "Python 3",
   "language": "python",
   "name": "python3"
  },
  "language_info": {
   "codemirror_mode": {
    "name": "ipython",
    "version": 3
   },
   "file_extension": ".py",
   "mimetype": "text/x-python",
   "name": "python",
   "nbconvert_exporter": "python",
   "pygments_lexer": "ipython3",
   "version": "3.7.6"
  }
 },
 "nbformat": 4,
 "nbformat_minor": 5
}
